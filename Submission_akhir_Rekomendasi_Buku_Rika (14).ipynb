{
  "cells": [
    {
      "cell_type": "markdown",
      "id": "b653c283",
      "metadata": {
        "id": "b653c283"
      },
      "source": [
        "### Proyek Sistem Rekomendasi Buku\n",
        "Proyek ini bertujuan membangun sistem rekomendasi buku menggunakan dua pendekatan populer, yaitu Content-Based Filtering dan Collaborative Filtering (SVD), berdasarkan dataset GoodBooks-10k. Evaluasi sistem dilakukan menggunakan metrik Precision@k dan Recall@k."
      ]
    },
    {
      "cell_type": "markdown",
      "id": "ca35d631",
      "metadata": {
        "id": "ca35d631"
      },
      "source": [
        "### Import Library yang Diperlukan"
      ]
    },
    {
      "cell_type": "code",
      "source": [
        "!pip install numpy==1.24.4"
      ],
      "metadata": {
        "colab": {
          "base_uri": "https://localhost:8080/"
        },
        "id": "bzxPLky3xplM",
        "outputId": "7527e31c-8200-4ed4-bb6f-36788907b600"
      },
      "id": "bzxPLky3xplM",
      "execution_count": 27,
      "outputs": [
        {
          "output_type": "stream",
          "name": "stdout",
          "text": [
            "Requirement already satisfied: numpy==1.24.4 in /usr/local/lib/python3.11/dist-packages (1.24.4)\n"
          ]
        }
      ]
    },
    {
      "cell_type": "code",
      "source": [
        "!pip install scikit-surprise"
      ],
      "metadata": {
        "colab": {
          "base_uri": "https://localhost:8080/"
        },
        "id": "aTmEs7ljxCa7",
        "outputId": "0e981fe9-1fde-42f9-d932-57992eb8c639"
      },
      "id": "aTmEs7ljxCa7",
      "execution_count": 28,
      "outputs": [
        {
          "output_type": "stream",
          "name": "stdout",
          "text": [
            "Requirement already satisfied: scikit-surprise in /usr/local/lib/python3.11/dist-packages (1.1.4)\n",
            "Requirement already satisfied: joblib>=1.2.0 in /usr/local/lib/python3.11/dist-packages (from scikit-surprise) (1.5.1)\n",
            "Requirement already satisfied: numpy>=1.19.5 in /usr/local/lib/python3.11/dist-packages (from scikit-surprise) (1.24.4)\n",
            "Requirement already satisfied: scipy>=1.6.0 in /usr/local/lib/python3.11/dist-packages (from scikit-surprise) (1.15.3)\n"
          ]
        }
      ]
    },
    {
      "cell_type": "code",
      "execution_count": 29,
      "id": "3ef5a87e",
      "metadata": {
        "id": "3ef5a87e"
      },
      "outputs": [],
      "source": [
        "# Mengimpor pustaka-pustaka yang dibutuhkan untuk pemrosesan data, visualisasi, serta membangun dan mengevaluasi model rekomendasi\n",
        "import pandas as pd\n",
        "import numpy as np\n",
        "import matplotlib.pyplot as plt\n",
        "import seaborn as sns\n",
        "from sklearn.feature_extraction.text import TfidfVectorizer\n",
        "from sklearn.metrics.pairwise import linear_kernel\n",
        "from sklearn.metrics import precision_score, recall_score\n",
        "from surprise import Dataset, Reader, SVD\n",
        "from surprise.model_selection import train_test_split\n",
        "from collections import defaultdict\n",
        "from surprise import accuracy"
      ]
    },
    {
      "cell_type": "markdown",
      "id": "f9fd2214",
      "metadata": {
        "id": "f9fd2214"
      },
      "source": [
        "### Upload Dataset"
      ]
    },
    {
      "cell_type": "code",
      "execution_count": 30,
      "id": "8c0b8844",
      "metadata": {
        "colab": {
          "base_uri": "https://localhost:8080/",
          "height": 107
        },
        "id": "8c0b8844",
        "outputId": "fbb7bfb8-498a-470c-c785-659553b60434"
      },
      "outputs": [
        {
          "output_type": "display_data",
          "data": {
            "text/plain": [
              "<IPython.core.display.HTML object>"
            ],
            "text/html": [
              "\n",
              "     <input type=\"file\" id=\"files-5ef5a748-927c-4644-a57a-08bf1388cf8b\" name=\"files[]\" multiple disabled\n",
              "        style=\"border:none\" />\n",
              "     <output id=\"result-5ef5a748-927c-4644-a57a-08bf1388cf8b\">\n",
              "      Upload widget is only available when the cell has been executed in the\n",
              "      current browser session. Please rerun this cell to enable.\n",
              "      </output>\n",
              "      <script>// Copyright 2017 Google LLC\n",
              "//\n",
              "// Licensed under the Apache License, Version 2.0 (the \"License\");\n",
              "// you may not use this file except in compliance with the License.\n",
              "// You may obtain a copy of the License at\n",
              "//\n",
              "//      http://www.apache.org/licenses/LICENSE-2.0\n",
              "//\n",
              "// Unless required by applicable law or agreed to in writing, software\n",
              "// distributed under the License is distributed on an \"AS IS\" BASIS,\n",
              "// WITHOUT WARRANTIES OR CONDITIONS OF ANY KIND, either express or implied.\n",
              "// See the License for the specific language governing permissions and\n",
              "// limitations under the License.\n",
              "\n",
              "/**\n",
              " * @fileoverview Helpers for google.colab Python module.\n",
              " */\n",
              "(function(scope) {\n",
              "function span(text, styleAttributes = {}) {\n",
              "  const element = document.createElement('span');\n",
              "  element.textContent = text;\n",
              "  for (const key of Object.keys(styleAttributes)) {\n",
              "    element.style[key] = styleAttributes[key];\n",
              "  }\n",
              "  return element;\n",
              "}\n",
              "\n",
              "// Max number of bytes which will be uploaded at a time.\n",
              "const MAX_PAYLOAD_SIZE = 100 * 1024;\n",
              "\n",
              "function _uploadFiles(inputId, outputId) {\n",
              "  const steps = uploadFilesStep(inputId, outputId);\n",
              "  const outputElement = document.getElementById(outputId);\n",
              "  // Cache steps on the outputElement to make it available for the next call\n",
              "  // to uploadFilesContinue from Python.\n",
              "  outputElement.steps = steps;\n",
              "\n",
              "  return _uploadFilesContinue(outputId);\n",
              "}\n",
              "\n",
              "// This is roughly an async generator (not supported in the browser yet),\n",
              "// where there are multiple asynchronous steps and the Python side is going\n",
              "// to poll for completion of each step.\n",
              "// This uses a Promise to block the python side on completion of each step,\n",
              "// then passes the result of the previous step as the input to the next step.\n",
              "function _uploadFilesContinue(outputId) {\n",
              "  const outputElement = document.getElementById(outputId);\n",
              "  const steps = outputElement.steps;\n",
              "\n",
              "  const next = steps.next(outputElement.lastPromiseValue);\n",
              "  return Promise.resolve(next.value.promise).then((value) => {\n",
              "    // Cache the last promise value to make it available to the next\n",
              "    // step of the generator.\n",
              "    outputElement.lastPromiseValue = value;\n",
              "    return next.value.response;\n",
              "  });\n",
              "}\n",
              "\n",
              "/**\n",
              " * Generator function which is called between each async step of the upload\n",
              " * process.\n",
              " * @param {string} inputId Element ID of the input file picker element.\n",
              " * @param {string} outputId Element ID of the output display.\n",
              " * @return {!Iterable<!Object>} Iterable of next steps.\n",
              " */\n",
              "function* uploadFilesStep(inputId, outputId) {\n",
              "  const inputElement = document.getElementById(inputId);\n",
              "  inputElement.disabled = false;\n",
              "\n",
              "  const outputElement = document.getElementById(outputId);\n",
              "  outputElement.innerHTML = '';\n",
              "\n",
              "  const pickedPromise = new Promise((resolve) => {\n",
              "    inputElement.addEventListener('change', (e) => {\n",
              "      resolve(e.target.files);\n",
              "    });\n",
              "  });\n",
              "\n",
              "  const cancel = document.createElement('button');\n",
              "  inputElement.parentElement.appendChild(cancel);\n",
              "  cancel.textContent = 'Cancel upload';\n",
              "  const cancelPromise = new Promise((resolve) => {\n",
              "    cancel.onclick = () => {\n",
              "      resolve(null);\n",
              "    };\n",
              "  });\n",
              "\n",
              "  // Wait for the user to pick the files.\n",
              "  const files = yield {\n",
              "    promise: Promise.race([pickedPromise, cancelPromise]),\n",
              "    response: {\n",
              "      action: 'starting',\n",
              "    }\n",
              "  };\n",
              "\n",
              "  cancel.remove();\n",
              "\n",
              "  // Disable the input element since further picks are not allowed.\n",
              "  inputElement.disabled = true;\n",
              "\n",
              "  if (!files) {\n",
              "    return {\n",
              "      response: {\n",
              "        action: 'complete',\n",
              "      }\n",
              "    };\n",
              "  }\n",
              "\n",
              "  for (const file of files) {\n",
              "    const li = document.createElement('li');\n",
              "    li.append(span(file.name, {fontWeight: 'bold'}));\n",
              "    li.append(span(\n",
              "        `(${file.type || 'n/a'}) - ${file.size} bytes, ` +\n",
              "        `last modified: ${\n",
              "            file.lastModifiedDate ? file.lastModifiedDate.toLocaleDateString() :\n",
              "                                    'n/a'} - `));\n",
              "    const percent = span('0% done');\n",
              "    li.appendChild(percent);\n",
              "\n",
              "    outputElement.appendChild(li);\n",
              "\n",
              "    const fileDataPromise = new Promise((resolve) => {\n",
              "      const reader = new FileReader();\n",
              "      reader.onload = (e) => {\n",
              "        resolve(e.target.result);\n",
              "      };\n",
              "      reader.readAsArrayBuffer(file);\n",
              "    });\n",
              "    // Wait for the data to be ready.\n",
              "    let fileData = yield {\n",
              "      promise: fileDataPromise,\n",
              "      response: {\n",
              "        action: 'continue',\n",
              "      }\n",
              "    };\n",
              "\n",
              "    // Use a chunked sending to avoid message size limits. See b/62115660.\n",
              "    let position = 0;\n",
              "    do {\n",
              "      const length = Math.min(fileData.byteLength - position, MAX_PAYLOAD_SIZE);\n",
              "      const chunk = new Uint8Array(fileData, position, length);\n",
              "      position += length;\n",
              "\n",
              "      const base64 = btoa(String.fromCharCode.apply(null, chunk));\n",
              "      yield {\n",
              "        response: {\n",
              "          action: 'append',\n",
              "          file: file.name,\n",
              "          data: base64,\n",
              "        },\n",
              "      };\n",
              "\n",
              "      let percentDone = fileData.byteLength === 0 ?\n",
              "          100 :\n",
              "          Math.round((position / fileData.byteLength) * 100);\n",
              "      percent.textContent = `${percentDone}% done`;\n",
              "\n",
              "    } while (position < fileData.byteLength);\n",
              "  }\n",
              "\n",
              "  // All done.\n",
              "  yield {\n",
              "    response: {\n",
              "      action: 'complete',\n",
              "    }\n",
              "  };\n",
              "}\n",
              "\n",
              "scope.google = scope.google || {};\n",
              "scope.google.colab = scope.google.colab || {};\n",
              "scope.google.colab._files = {\n",
              "  _uploadFiles,\n",
              "  _uploadFilesContinue,\n",
              "};\n",
              "})(self);\n",
              "</script> "
            ]
          },
          "metadata": {}
        },
        {
          "output_type": "stream",
          "name": "stdout",
          "text": [
            "Saving books.csv to books (1).csv\n",
            "Saving ratings.csv to ratings (1).csv\n"
          ]
        }
      ],
      "source": [
        "# Mengunggah dataset dari file lokal ke Colab\n",
        "from google.colab import files\n",
        "uploaded = files.upload()"
      ]
    },
    {
      "cell_type": "markdown",
      "id": "93ebf327",
      "metadata": {
        "id": "93ebf327"
      },
      "source": [
        "### Memuat Dataset"
      ]
    },
    {
      "cell_type": "code",
      "execution_count": 53,
      "id": "60ba81c5",
      "metadata": {
        "id": "60ba81c5"
      },
      "outputs": [],
      "source": [
        "# Fungsi untuk membaca file CSV dan mengembalikan DataFrame buku dan rating\n",
        "def load_datasets():\n",
        "    books = pd.read_csv('books.csv')\n",
        "    ratings = pd.read_csv('ratings.csv')\n",
        "    return books, ratings\n",
        "\n",
        "books, ratings = load_datasets()"
      ]
    },
    {
      "cell_type": "code",
      "source": [
        "books.info()"
      ],
      "metadata": {
        "colab": {
          "base_uri": "https://localhost:8080/"
        },
        "id": "0g9fQbmnUVrB",
        "outputId": "4e1ead3d-e739-42af-9ca2-9b2d331e0326"
      },
      "id": "0g9fQbmnUVrB",
      "execution_count": 54,
      "outputs": [
        {
          "output_type": "stream",
          "name": "stdout",
          "text": [
            "<class 'pandas.core.frame.DataFrame'>\n",
            "RangeIndex: 10000 entries, 0 to 9999\n",
            "Data columns (total 23 columns):\n",
            " #   Column                     Non-Null Count  Dtype  \n",
            "---  ------                     --------------  -----  \n",
            " 0   id                         10000 non-null  int64  \n",
            " 1   book_id                    10000 non-null  int64  \n",
            " 2   best_book_id               10000 non-null  int64  \n",
            " 3   work_id                    10000 non-null  int64  \n",
            " 4   books_count                10000 non-null  int64  \n",
            " 5   isbn                       9300 non-null   object \n",
            " 6   isbn13                     9415 non-null   float64\n",
            " 7   authors                    10000 non-null  object \n",
            " 8   original_publication_year  9979 non-null   float64\n",
            " 9   original_title             9415 non-null   object \n",
            " 10  title                      10000 non-null  object \n",
            " 11  language_code              8916 non-null   object \n",
            " 12  average_rating             10000 non-null  float64\n",
            " 13  ratings_count              10000 non-null  int64  \n",
            " 14  work_ratings_count         10000 non-null  int64  \n",
            " 15  work_text_reviews_count    10000 non-null  int64  \n",
            " 16  ratings_1                  10000 non-null  int64  \n",
            " 17  ratings_2                  10000 non-null  int64  \n",
            " 18  ratings_3                  10000 non-null  int64  \n",
            " 19  ratings_4                  10000 non-null  int64  \n",
            " 20  ratings_5                  10000 non-null  int64  \n",
            " 21  image_url                  10000 non-null  object \n",
            " 22  small_image_url            10000 non-null  object \n",
            "dtypes: float64(3), int64(13), object(7)\n",
            "memory usage: 1.8+ MB\n"
          ]
        }
      ]
    },
    {
      "cell_type": "code",
      "source": [
        "ratings.info()"
      ],
      "metadata": {
        "colab": {
          "base_uri": "https://localhost:8080/"
        },
        "id": "mIRcM84eUbAW",
        "outputId": "6e2723ee-60df-4321-d4e0-09e96606b3ab"
      },
      "id": "mIRcM84eUbAW",
      "execution_count": 55,
      "outputs": [
        {
          "output_type": "stream",
          "name": "stdout",
          "text": [
            "<class 'pandas.core.frame.DataFrame'>\n",
            "RangeIndex: 981756 entries, 0 to 981755\n",
            "Data columns (total 3 columns):\n",
            " #   Column   Non-Null Count   Dtype\n",
            "---  ------   --------------   -----\n",
            " 0   book_id  981756 non-null  int64\n",
            " 1   user_id  981756 non-null  int64\n",
            " 2   rating   981756 non-null  int64\n",
            "dtypes: int64(3)\n",
            "memory usage: 22.5 MB\n"
          ]
        }
      ]
    },
    {
      "cell_type": "markdown",
      "id": "0f003f3e",
      "metadata": {
        "id": "0f003f3e"
      },
      "source": [
        "### Eksplorasi Data Awal"
      ]
    },
    {
      "cell_type": "code",
      "execution_count": 57,
      "id": "bfdc1a0e",
      "metadata": {
        "colab": {
          "base_uri": "https://localhost:8080/"
        },
        "id": "bfdc1a0e",
        "outputId": "87f68003-694e-4be4-c761-74971fb5e39f"
      },
      "outputs": [
        {
          "output_type": "stream",
          "name": "stdout",
          "text": [
            "Ukuran data buku: (10000, 23)\n",
            "Ukuran data rating: (981756, 3)\n",
            "                                               title  \\\n",
            "0            The Hunger Games (The Hunger Games, #1)   \n",
            "1  Harry Potter and the Sorcerer's Stone (Harry P...   \n",
            "2                            Twilight (Twilight, #1)   \n",
            "3                              To Kill a Mockingbird   \n",
            "4                                   The Great Gatsby   \n",
            "\n",
            "                       authors  average_rating  \n",
            "0              Suzanne Collins            4.34  \n",
            "1  J.K. Rowling, Mary GrandPré            4.44  \n",
            "2              Stephenie Meyer            3.57  \n",
            "3                   Harper Lee            4.25  \n",
            "4          F. Scott Fitzgerald            3.89  \n",
            "   book_id  user_id  rating\n",
            "0        1      314       5\n",
            "1        1      439       3\n",
            "2        1      588       5\n",
            "3        1     1169       4\n",
            "4        1     1185       4\n"
          ]
        }
      ],
      "source": [
        "# Menampilkan ukuran dan cuplikan awal dari dataset untuk memahami struktur datanya\n",
        "print(\"Ukuran data buku:\", books.shape)\n",
        "print(\"Ukuran data rating:\", ratings.shape)\n",
        "print(books[['title', 'authors', 'average_rating']].head())\n",
        "print(ratings.head())"
      ]
    },
    {
      "cell_type": "markdown",
      "id": "354fcd03",
      "metadata": {
        "id": "354fcd03"
      },
      "source": [
        "### Pengecekan Data Kosong dan Duplikat"
      ]
    },
    {
      "cell_type": "code",
      "execution_count": 58,
      "id": "40f73efe",
      "metadata": {
        "colab": {
          "base_uri": "https://localhost:8080/"
        },
        "id": "40f73efe",
        "outputId": "485aacd2-d387-447d-8578-0afb616d20f4"
      },
      "outputs": [
        {
          "output_type": "stream",
          "name": "stdout",
          "text": [
            "\n",
            "Jumlah nilai kosong di books:\n",
            "id                              0\n",
            "book_id                         0\n",
            "best_book_id                    0\n",
            "work_id                         0\n",
            "books_count                     0\n",
            "isbn                          700\n",
            "isbn13                        585\n",
            "authors                         0\n",
            "original_publication_year      21\n",
            "original_title                585\n",
            "title                           0\n",
            "language_code                1084\n",
            "average_rating                  0\n",
            "ratings_count                   0\n",
            "work_ratings_count              0\n",
            "work_text_reviews_count         0\n",
            "ratings_1                       0\n",
            "ratings_2                       0\n",
            "ratings_3                       0\n",
            "ratings_4                       0\n",
            "ratings_5                       0\n",
            "image_url                       0\n",
            "small_image_url                 0\n",
            "dtype: int64\n",
            "\n",
            "Jumlah nilai kosong di ratings:\n",
            "book_id    0\n",
            "user_id    0\n",
            "rating     0\n",
            "dtype: int64\n",
            "\n",
            "Jumlah data duplikat di books: 0\n",
            "Jumlah data duplikat di ratings: 1644\n"
          ]
        }
      ],
      "source": [
        "# Mengecek apakah ada nilai yang hilang atau duplikat pada kedua dataset\n",
        "print(\"\\nJumlah nilai kosong di books:\")\n",
        "print(books.isnull().sum())\n",
        "print(\"\\nJumlah nilai kosong di ratings:\")\n",
        "print(ratings.isnull().sum())\n",
        "\n",
        "print(\"\\nJumlah data duplikat di books:\", books.duplicated().sum())\n",
        "print(\"Jumlah data duplikat di ratings:\", ratings.duplicated().sum())"
      ]
    },
    {
      "cell_type": "markdown",
      "source": [
        "**Dari hasil eksplorasi:**\n",
        "- missing data terjadi di isbn, isbn13, original_publication_year, original title, dan language code\n",
        "- Jumlah data duplikat di books: 0\n",
        "- Jumlah data duplikat di ratings: 1644\n"
      ],
      "metadata": {
        "id": "n9nnymWjXJKQ"
      },
      "id": "n9nnymWjXJKQ"
    },
    {
      "cell_type": "code",
      "source": [
        "# Menghapus kolom yang memiliki banyak nilai kosong dan tidak digunakan dalam pemodelan\n",
        "books = books.drop(columns=['isbn', 'isbn13', 'original_title', 'language_code', 'image_url', 'small_image_url'])"
      ],
      "metadata": {
        "id": "xnK_nDTiWcBg"
      },
      "id": "xnK_nDTiWcBg",
      "execution_count": 59,
      "outputs": []
    },
    {
      "cell_type": "markdown",
      "source": [
        "isbn, isbn13, original_publication_year, original title, dan language code dihapus karna tidak digunakan dalam pemodelan"
      ],
      "metadata": {
        "id": "2fiHfARuXr7E"
      },
      "id": "2fiHfARuXr7E"
    },
    {
      "cell_type": "code",
      "source": [
        "# Menghapus duplikat pada ratings\n",
        "ratings = ratings.drop_duplicates()"
      ],
      "metadata": {
        "id": "B4ZVNogkWY9G"
      },
      "id": "B4ZVNogkWY9G",
      "execution_count": 60,
      "outputs": []
    },
    {
      "cell_type": "code",
      "source": [
        "# Menghapus baris dengan missing value pada kolom 'original_publication_year'\n",
        "books = books.dropna(subset=['original_publication_year'])"
      ],
      "metadata": {
        "id": "VO1DS2EnWvGg"
      },
      "id": "VO1DS2EnWvGg",
      "execution_count": 61,
      "outputs": []
    },
    {
      "cell_type": "code",
      "source": [
        "# Menampilkan kembali jumlah nilai kosong setelah penghapusan kolom\n",
        "print(\"\\nJumlah nilai kosong setelah penghapusan kolom:\")\n",
        "print(books.isnull().sum())"
      ],
      "metadata": {
        "colab": {
          "base_uri": "https://localhost:8080/"
        },
        "id": "HNAJ1I40Wglo",
        "outputId": "c3aea734-f8ff-487f-ac45-4c9e37a37bd0"
      },
      "id": "HNAJ1I40Wglo",
      "execution_count": 62,
      "outputs": [
        {
          "output_type": "stream",
          "name": "stdout",
          "text": [
            "\n",
            "Jumlah nilai kosong setelah penghapusan kolom:\n",
            "id                           0\n",
            "book_id                      0\n",
            "best_book_id                 0\n",
            "work_id                      0\n",
            "books_count                  0\n",
            "authors                      0\n",
            "original_publication_year    0\n",
            "title                        0\n",
            "average_rating               0\n",
            "ratings_count                0\n",
            "work_ratings_count           0\n",
            "work_text_reviews_count      0\n",
            "ratings_1                    0\n",
            "ratings_2                    0\n",
            "ratings_3                    0\n",
            "ratings_4                    0\n",
            "ratings_5                    0\n",
            "dtype: int64\n"
          ]
        }
      ]
    },
    {
      "cell_type": "markdown",
      "id": "3cddc344",
      "metadata": {
        "id": "3cddc344"
      },
      "source": [
        "### Visualisasi Distribusi Rating"
      ]
    },
    {
      "cell_type": "code",
      "execution_count": 40,
      "id": "6d18c743",
      "metadata": {
        "colab": {
          "base_uri": "https://localhost:8080/",
          "height": 472
        },
        "id": "6d18c743",
        "outputId": "6517d3fc-695e-41b7-9961-1529e341b241"
      },
      "outputs": [
        {
          "output_type": "display_data",
          "data": {
            "text/plain": [
              "<Figure size 640x480 with 1 Axes>"
            ],
            "image/png": "[encoded data removed]"
          },
          "metadata": {}
        }
      ],
      "source": [
        "# Menampilkan histogram distribusi rating untuk mengetahui pola rating pengguna\n",
        "ratings['rating'].hist(bins=10)\n",
        "plt.title('Distribusi Rating Buku')\n",
        "plt.xlabel('Rating')\n",
        "plt.ylabel('Jumlah')\n",
        "plt.show()"
      ]
    },
    {
      "cell_type": "markdown",
      "source": [
        "**Analisis Distribusi Rating Buku**\n",
        "\n",
        "- Rating 4 adalah yang paling sering diberikan, menunjukkan bahwa mayoritas pengguna cukup puas dengan buku-buku yang mereka baca.\n",
        "- Rating 5 dan 3 juga cukup dominan, menandakan sebagian besar pengguna memberi rating positif (>= 3).\n",
        "- Rating rendah (1 dan 2) relatif jarang, bisa jadi karena pengguna cenderung tidak memberi rating pada buku yang tidak mereka sukai.\n",
        "- Distribusi ini menunjukkan pola bias positif yang umum terjadi pada dataset rekomendasi berbasis rating.\n",
        "\n",
        "**Implikasi**\n",
        "- Bisa menggunakan threshold rating 3.5 atau 4.0 saat mengevaluasi dengan Precision@K dan Recall@K.\n",
        "- Perlu mempertimbangkan bahwa sistem bisa terlalu sering merekomendasikan buku-buku populer dengan rating tinggi.\n"
      ],
      "metadata": {
        "id": "wsWulARgYMox"
      },
      "id": "wsWulARgYMox"
    },
    {
      "cell_type": "markdown",
      "id": "0d2bb3d4",
      "metadata": {
        "id": "0d2bb3d4"
      },
      "source": [
        "### Pra-pemrosesan Data"
      ]
    },
    {
      "cell_type": "markdown",
      "source": [
        "Data rating digabung dengan informasi judul dari dataset buku.\n",
        "\n",
        "Data teks dari title, authors, dan publisher digabung untuk membentuk deskripsi fitur konten."
      ],
      "metadata": {
        "id": "8A3Xmpt1Yic8"
      },
      "id": "8A3Xmpt1Yic8"
    },
    {
      "cell_type": "code",
      "execution_count": 41,
      "id": "80dfc0c9",
      "metadata": {
        "id": "80dfc0c9"
      },
      "outputs": [],
      "source": [
        "# Menggabungkan informasi judul ke dalam dataset rating\n",
        "ratings = ratings.merge(books[['book_id', 'title']], on='book_id')"
      ]
    },
    {
      "cell_type": "code",
      "source": [
        "# Menggabungkan informasi judul dan penulis untuk membentuk deskripsi buku\n",
        "books['combined'] = books['title'] + ' ' + books['authors']"
      ],
      "metadata": {
        "id": "1UJBGuZ6bqpR"
      },
      "id": "1UJBGuZ6bqpR",
      "execution_count": 42,
      "outputs": []
    },
    {
      "cell_type": "code",
      "source": [
        "# Vektorisasi dengan TF-IDF untuk mengubah teks menjadi vektor fitur\n",
        "vectorizer = TfidfVectorizer(stop_words='english')\n",
        "tfidf_matrix = vectorizer.fit_transform(books['combined'])"
      ],
      "metadata": {
        "id": "L3xIjILgbsol"
      },
      "id": "L3xIjILgbsol",
      "execution_count": 43,
      "outputs": []
    },
    {
      "cell_type": "code",
      "source": [
        "# Menghitung kemiripan antar buku menggunakan cosine similarity\n",
        "cosine_sim = linear_kernel(tfidf_matrix, tfidf_matrix)"
      ],
      "metadata": {
        "id": "HGIKMejmbxot"
      },
      "id": "HGIKMejmbxot",
      "execution_count": 44,
      "outputs": []
    },
    {
      "cell_type": "code",
      "source": [
        "# Membuat pemetaan judul buku ke indeks\n",
        "title_to_index = pd.Series(books.index, index=books['title']).drop_duplicates()"
      ],
      "metadata": {
        "id": "Duh2w1vyb0Us"
      },
      "id": "Duh2w1vyb0Us",
      "execution_count": 45,
      "outputs": []
    },
    {
      "cell_type": "code",
      "source": [
        "# Fungsi untuk mendapatkan rekomendasi berdasarkan kemiripan konten\n",
        "def get_content_recommendations(title, top_n=10):\n",
        "    idx = title_to_index.get(title)\n",
        "    if idx is None:\n",
        "        return []\n",
        "    sim_scores = list(enumerate(cosine_sim[idx]))\n",
        "    sim_scores = sorted(sim_scores, key=lambda x: x[1], reverse=True)[1:top_n+1]\n",
        "    book_indices = [i[0] for i in sim_scores]\n",
        "    return books['title'].iloc[book_indices].tolist()"
      ],
      "metadata": {
        "id": "3Li2xkd5b2an"
      },
      "id": "3Li2xkd5b2an",
      "execution_count": 46,
      "outputs": []
    },
    {
      "cell_type": "markdown",
      "id": "e687c7bf",
      "metadata": {
        "id": "e687c7bf"
      },
      "source": [
        "#### Evaluasi Collaborative Filtering (SVD)"
      ]
    },
    {
      "cell_type": "code",
      "execution_count": 47,
      "id": "2e6eb9ac",
      "metadata": {
        "id": "2e6eb9ac"
      },
      "outputs": [],
      "source": [
        "# Menggunakan library surprise untuk membangun model berbasis matrix factorization\n",
        "reader = Reader(rating_scale=(0, 5))\n",
        "data = Dataset.load_from_df(ratings[['user_id', 'book_id', 'rating']], reader)\n",
        "trainset, testset = train_test_split(data, test_size=0.2, random_state=42)\n",
        "\n",
        "model = SVD()\n",
        "model.fit(trainset)\n",
        "predictions = model.test(testset)"
      ]
    },
    {
      "cell_type": "code",
      "source": [
        "rmse = accuracy.rmse(predictions)\n",
        "mae = accuracy.mae(predictions)\n",
        "\n",
        "print(f\"RMSE: {rmse:.4f}\")\n",
        "print(f\"MAE: {mae:.4f}\")"
      ],
      "metadata": {
        "colab": {
          "base_uri": "https://localhost:8080/"
        },
        "id": "DeVaEa5B0EWz",
        "outputId": "f2fec757-8dac-4602-ab41-48ed3a2d0f35"
      },
      "id": "DeVaEa5B0EWz",
      "execution_count": 48,
      "outputs": [
        {
          "output_type": "stream",
          "name": "stdout",
          "text": [
            "RMSE: 0.9071\n",
            "MAE:  0.7248\n",
            "RMSE: 0.9071\n",
            "MAE: 0.7248\n"
          ]
        }
      ]
    },
    {
      "cell_type": "markdown",
      "source": [
        "rekomendasi untuk “The Hobbit”"
      ],
      "metadata": {
        "id": "aTjOUTZyNp2b"
      },
      "id": "aTjOUTZyNp2b"
    },
    {
      "cell_type": "code",
      "source": [
        "get_content_recommendations('The Hobbit')"
      ],
      "metadata": {
        "colab": {
          "base_uri": "https://localhost:8080/"
        },
        "id": "bk2QUQTKNtOt",
        "outputId": "fe16c5d3-c006-4b1c-f38a-82b281873938"
      },
      "id": "bk2QUQTKNtOt",
      "execution_count": 49,
      "outputs": [
        {
          "output_type": "execute_result",
          "data": {
            "text/plain": [
              "['J.R.R. Tolkien 4-Book Boxed Set: The Hobbit and The Lord of the Rings',\n",
              " 'The History of the Hobbit, Part One: Mr. Baggins',\n",
              " 'The Children of Húrin',\n",
              " 'The Hobbit: Graphic Novel',\n",
              " 'Unfinished Tales of Númenor and Middle-Earth',\n",
              " 'The Silmarillion (Middle-Earth Universe)',\n",
              " 'The Two Towers (The Lord of the Rings, #2)',\n",
              " 'The Return of the King (The Lord of the Rings, #3)',\n",
              " 'The Fellowship of the Ring (The Lord of the Rings, #1)',\n",
              " 'The Complete Guide to Middle-Earth']"
            ]
          },
          "metadata": {},
          "execution_count": 49
        }
      ]
    },
    {
      "cell_type": "markdown",
      "source": [
        "#### Evaluasi Content-Based Filtering"
      ],
      "metadata": {
        "id": "4QuZhgN97757"
      },
      "id": "4QuZhgN97757"
    },
    {
      "cell_type": "code",
      "source": [
        "def evaluate_content_based(user_id, ratings_df, books_df, recommender_func, k=10):\n",
        "    # Ambil buku yang diberi rating tinggi oleh user\n",
        "    liked_books = ratings_df[(ratings_df['user_id'] == user_id) & (ratings_df['rating'] >= 4)]\n",
        "    liked_book_ids = liked_books['book_id'].tolist()\n",
        "\n",
        "    if len(liked_book_ids) < 2:\n",
        "        return None, None  # Tidak cukup data untuk evaluasi\n",
        "\n",
        "    # Ambil salah satu buku yang disukai sebagai query ke CBF\n",
        "    input_book_id = liked_book_ids[0]\n",
        "    input_title = books_df[books_df['book_id'] == input_book_id]['title'].values[0]\n",
        "\n",
        "    # Dapatkan rekomendasi dari Content-Based Filtering\n",
        "    recommended_titles = recommender_func(input_title, top_n=k)\n",
        "    recommended_ids = books_df[books_df['title'].isin(recommended_titles)]['book_id'].tolist()\n",
        "\n",
        "    # Hitung Precision dan Recall\n",
        "    relevant_recommendations = set(recommended_ids) & set(liked_book_ids)\n",
        "\n",
        "    precision = len(relevant_recommendations) / k\n",
        "    recall = len(relevant_recommendations) / len(liked_book_ids)\n",
        "\n",
        "    return precision, recall\n"
      ],
      "metadata": {
        "id": "Z2YqcpyE752V"
      },
      "id": "Z2YqcpyE752V",
      "execution_count": 50,
      "outputs": []
    },
    {
      "cell_type": "code",
      "source": [
        "user_ids = ratings['user_id'].unique()\n",
        "precision_scores, recall_scores = [], []\n",
        "\n",
        "for uid in user_ids[:50]:  # Ambil 50 user pertama, bisa disesuaikan\n",
        "    p, r = evaluate_content_based(uid, ratings, books, get_content_recommendations, k=10)\n",
        "    if p is not None and r is not None:\n",
        "        precision_scores.append(p)\n",
        "        recall_scores.append(r)\n",
        "\n",
        "cbf_precision = np.mean(precision_scores)\n",
        "cbf_recall = np.mean(recall_scores)\n",
        "\n",
        "print(f\"Content-Based Precision@10: {cbf_precision:.4f}\")\n",
        "print(f\"Content-Based Recall@10: {cbf_recall:.4f}\")\n"
      ],
      "metadata": {
        "colab": {
          "base_uri": "https://localhost:8080/"
        },
        "id": "T7fzscv28BWQ",
        "outputId": "2eea11f6-d853-4ee3-b847-8518dd83d8f3"
      },
      "id": "T7fzscv28BWQ",
      "execution_count": 51,
      "outputs": [
        {
          "output_type": "stream",
          "name": "stdout",
          "text": [
            "Content-Based Precision@10: 0.1560\n",
            "Content-Based Recall@10: 0.1044\n"
          ]
        }
      ]
    },
    {
      "cell_type": "markdown",
      "source": [
        "### Simulasi Rekomendasi Buku untuk Pengguna dengan id_user : 123"
      ],
      "metadata": {
        "id": "5FVZ6fD5xkOp"
      },
      "id": "5FVZ6fD5xkOp"
    },
    {
      "cell_type": "code",
      "source": [
        "# Tetapkan user_id secara eksplisit agar rekomendasi konsisten\n",
        "uid = '123'\n",
        "\n",
        "# Ambil daftar buku yang sudah dibaca user tersebut\n",
        "user_books = ratings[ratings['user_id'] == int(uid)]['book_id'].tolist()\n",
        "\n",
        "# Ambil semua book_id dari data buku\n",
        "all_book_ids = books['book_id'].tolist()\n",
        "\n",
        "# Cari buku yang belum pernah dibaca user tersebut\n",
        "unrated_books = [bid for bid in all_book_ids if bid not in user_books]\n",
        "\n",
        "# Prediksi rating untuk setiap buku yang belum dibaca\n",
        "predicted_ratings = [(bid, model.predict(uid, bid).est) for bid in unrated_books]\n",
        "\n",
        "# Urutkan hasil prediksi dari rating tertinggi ke terendah\n",
        "predicted_ratings.sort(key=lambda x: x[1], reverse=True)\n",
        "\n",
        "# Ambil 5 rekomendasi teratas\n",
        "top_recs = predicted_ratings[:5]\n",
        "\n",
        "# Cetak hasil rekomendasi\n",
        "print(\"Top 5 rekomendasi buku untuk user\", uid)\n",
        "for book_id, rating in top_recs:\n",
        "    title = books[books['book_id'] == book_id]['title'].values[0]\n",
        "    print(f\"{title} - Prediksi Rating: {round(rating, 2)}\")"
      ],
      "metadata": {
        "colab": {
          "base_uri": "https://localhost:8080/"
        },
        "id": "detQXK6Hxgos",
        "outputId": "962ad07a-7ef0-4299-de0c-f0e0e339479e"
      },
      "id": "detQXK6Hxgos",
      "execution_count": 52,
      "outputs": [
        {
          "output_type": "stream",
          "name": "stdout",
          "text": [
            "Top 5 rekomendasi buku untuk user 123\n",
            "Still Life with Woodpecker - Prediksi Rating: 4.73\n",
            "Villa Incognito - Prediksi Rating: 4.62\n",
            "The Beautiful and Damned - Prediksi Rating: 4.6\n",
            "A People's History of the United States - Prediksi Rating: 4.55\n",
            "Tears of the Giraffe (No. 1 Ladies' Detective Agency, #2) - Prediksi Rating: 4.53\n"
          ]
        }
      ]
    },
    {
      "cell_type": "markdown",
      "source": [
        "### **Kesimpulan**\n",
        "\n",
        "**Content-Based Filtering** mampu merekomendasikan buku berdasarkan kemiripan konten seperti judul dan penulis. Sistem ini bekerja baik bahkan untuk pengguna baru karena tidak bergantung pada interaksi pengguna lain.\n",
        "\n",
        "**Collaborative Filtering (SVD)** merekomendasikan buku berdasarkan pola rating antar pengguna. Metode ini cenderung menghasilkan rekomendasi yang lebih personal jika tersedia cukup data historis pengguna.\n",
        "\n",
        "**Hasil evaluasi model menunjukkan:**\n",
        "\n",
        "- **Content-Based**\n",
        "  - Precision@10: 0.1560\n",
        "  - Recall@10: 0.1044\n",
        "\n",
        "- **Collaborative Filtering (SVD):**\n",
        "  - RMSE: 0.9066\n",
        "  - MAE:  0.7243\n",
        "\n",
        "  ### Interpretasi:\n",
        "\n",
        "- Collaborative Filtering (SVD) menghasilkan **RMSE dan MAE yang cukup rendah**, menunjukkan akurasi prediksi rating yang baik.\n",
        "- Content-Based Filtering menghasilkan Recall@10 sebesar 0.1560, yang berarti sekitar 65% dari buku-buku relevan (yang disukai pengguna) berhasil direkomendasikan. Precision@10-nya sebesar 0.1044, artinya dari 10 buku yang direkomendasikan, rata-rata 1–2 di antaranya benar-benar relevan untuk pengguna.\n",
        "\n"
      ],
      "metadata": {
        "id": "m-GjKQsZ03_-"
      },
      "id": "m-GjKQsZ03_-"
    }
  ],
  "metadata": {
    "language_info": {
      "name": "python"
    },
    "colab": {
      "provenance": []
    },
    "kernelspec": {
      "name": "python3",
      "display_name": "Python 3"
    }
  },
  "nbformat": 4,
  "nbformat_minor": 5
}